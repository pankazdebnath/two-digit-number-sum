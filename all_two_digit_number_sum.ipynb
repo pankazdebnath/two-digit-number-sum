{
 "cells": [
  {
   "cell_type": "code",
   "execution_count": 74,
   "id": "economic-approval",
   "metadata": {},
   "outputs": [],
   "source": [
    "\n",
    "def solution(A):\n",
    "    x = 0\n",
    "    for n in A:\n",
    "        if 100>n>9 or -100<n<-9:\n",
    "            x += n\n",
    "    return x"
   ]
  },
  {
   "cell_type": "code",
   "execution_count": 75,
   "id": "false-memory",
   "metadata": {},
   "outputs": [
    {
     "data": {
      "text/plain": [
       "-11"
      ]
     },
     "execution_count": 75,
     "metadata": {},
     "output_type": "execute_result"
    }
   ],
   "source": [
    "A = [1, 1000, 80,-91]\n",
    "solution(A)"
   ]
  },
  {
   "cell_type": "code",
   "execution_count": 73,
   "id": "endless-montana",
   "metadata": {},
   "outputs": [
    {
     "data": {
      "text/plain": [
       "-11"
      ]
     },
     "execution_count": 73,
     "metadata": {},
     "output_type": "execute_result"
    }
   ],
   "source": [
    "A = [1, 1000, 80,-91] \n",
    "sum(filter(lambda item: 100>item>9 or -100<item<-9, A))"
   ]
  },
  {
   "cell_type": "code",
   "execution_count": null,
   "id": "minimal-abortion",
   "metadata": {},
   "outputs": [],
   "source": []
  }
 ],
 "metadata": {
  "kernelspec": {
   "display_name": "Python 3",
   "language": "python",
   "name": "python3"
  },
  "language_info": {
   "codemirror_mode": {
    "name": "ipython",
    "version": 3
   },
   "file_extension": ".py",
   "mimetype": "text/x-python",
   "name": "python",
   "nbconvert_exporter": "python",
   "pygments_lexer": "ipython3",
   "version": "3.8.5"
  }
 },
 "nbformat": 4,
 "nbformat_minor": 5
}
